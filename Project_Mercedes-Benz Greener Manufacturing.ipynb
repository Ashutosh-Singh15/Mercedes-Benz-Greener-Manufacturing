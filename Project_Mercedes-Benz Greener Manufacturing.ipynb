{
 "cells": [
  {
   "cell_type": "code",
   "execution_count": 166,
   "id": "0053a69d",
   "metadata": {},
   "outputs": [],
   "source": [
    "#importing relevant libraries\n",
    "import pandas as pd\n",
    "import numpy as np\n",
    "from sklearn.preprocessing import LabelEncoder\n",
    "from sklearn.model_selection import train_test_split\n",
    "from sklearn.metrics import mean_squared_error\n",
    "import xgboost as xgb"
   ]
  },
  {
   "cell_type": "code",
   "execution_count": 167,
   "id": "953f31d6",
   "metadata": {},
   "outputs": [],
   "source": [
    "#importing data\n",
    "merc_train=pd.read_csv('train.csv')\n",
    "merc_test=pd.read_csv('test.csv')"
   ]
  },
  {
   "cell_type": "code",
   "execution_count": 168,
   "id": "32b86c6e",
   "metadata": {},
   "outputs": [
    {
     "data": {
      "text/html": [
       "<div>\n",
       "<style scoped>\n",
       "    .dataframe tbody tr th:only-of-type {\n",
       "        vertical-align: middle;\n",
       "    }\n",
       "\n",
       "    .dataframe tbody tr th {\n",
       "        vertical-align: top;\n",
       "    }\n",
       "\n",
       "    .dataframe thead th {\n",
       "        text-align: right;\n",
       "    }\n",
       "</style>\n",
       "<table border=\"1\" class=\"dataframe\">\n",
       "  <thead>\n",
       "    <tr style=\"text-align: right;\">\n",
       "      <th></th>\n",
       "      <th>ID</th>\n",
       "      <th>y</th>\n",
       "      <th>X0</th>\n",
       "      <th>X1</th>\n",
       "      <th>X2</th>\n",
       "      <th>X3</th>\n",
       "      <th>X4</th>\n",
       "      <th>X5</th>\n",
       "      <th>X6</th>\n",
       "      <th>X8</th>\n",
       "      <th>...</th>\n",
       "      <th>X375</th>\n",
       "      <th>X376</th>\n",
       "      <th>X377</th>\n",
       "      <th>X378</th>\n",
       "      <th>X379</th>\n",
       "      <th>X380</th>\n",
       "      <th>X382</th>\n",
       "      <th>X383</th>\n",
       "      <th>X384</th>\n",
       "      <th>X385</th>\n",
       "    </tr>\n",
       "  </thead>\n",
       "  <tbody>\n",
       "    <tr>\n",
       "      <th>0</th>\n",
       "      <td>0</td>\n",
       "      <td>130.81</td>\n",
       "      <td>k</td>\n",
       "      <td>v</td>\n",
       "      <td>at</td>\n",
       "      <td>a</td>\n",
       "      <td>d</td>\n",
       "      <td>u</td>\n",
       "      <td>j</td>\n",
       "      <td>o</td>\n",
       "      <td>...</td>\n",
       "      <td>0</td>\n",
       "      <td>0</td>\n",
       "      <td>1</td>\n",
       "      <td>0</td>\n",
       "      <td>0</td>\n",
       "      <td>0</td>\n",
       "      <td>0</td>\n",
       "      <td>0</td>\n",
       "      <td>0</td>\n",
       "      <td>0</td>\n",
       "    </tr>\n",
       "    <tr>\n",
       "      <th>1</th>\n",
       "      <td>6</td>\n",
       "      <td>88.53</td>\n",
       "      <td>k</td>\n",
       "      <td>t</td>\n",
       "      <td>av</td>\n",
       "      <td>e</td>\n",
       "      <td>d</td>\n",
       "      <td>y</td>\n",
       "      <td>l</td>\n",
       "      <td>o</td>\n",
       "      <td>...</td>\n",
       "      <td>1</td>\n",
       "      <td>0</td>\n",
       "      <td>0</td>\n",
       "      <td>0</td>\n",
       "      <td>0</td>\n",
       "      <td>0</td>\n",
       "      <td>0</td>\n",
       "      <td>0</td>\n",
       "      <td>0</td>\n",
       "      <td>0</td>\n",
       "    </tr>\n",
       "    <tr>\n",
       "      <th>2</th>\n",
       "      <td>7</td>\n",
       "      <td>76.26</td>\n",
       "      <td>az</td>\n",
       "      <td>w</td>\n",
       "      <td>n</td>\n",
       "      <td>c</td>\n",
       "      <td>d</td>\n",
       "      <td>x</td>\n",
       "      <td>j</td>\n",
       "      <td>x</td>\n",
       "      <td>...</td>\n",
       "      <td>0</td>\n",
       "      <td>0</td>\n",
       "      <td>0</td>\n",
       "      <td>0</td>\n",
       "      <td>0</td>\n",
       "      <td>0</td>\n",
       "      <td>1</td>\n",
       "      <td>0</td>\n",
       "      <td>0</td>\n",
       "      <td>0</td>\n",
       "    </tr>\n",
       "    <tr>\n",
       "      <th>3</th>\n",
       "      <td>9</td>\n",
       "      <td>80.62</td>\n",
       "      <td>az</td>\n",
       "      <td>t</td>\n",
       "      <td>n</td>\n",
       "      <td>f</td>\n",
       "      <td>d</td>\n",
       "      <td>x</td>\n",
       "      <td>l</td>\n",
       "      <td>e</td>\n",
       "      <td>...</td>\n",
       "      <td>0</td>\n",
       "      <td>0</td>\n",
       "      <td>0</td>\n",
       "      <td>0</td>\n",
       "      <td>0</td>\n",
       "      <td>0</td>\n",
       "      <td>0</td>\n",
       "      <td>0</td>\n",
       "      <td>0</td>\n",
       "      <td>0</td>\n",
       "    </tr>\n",
       "    <tr>\n",
       "      <th>4</th>\n",
       "      <td>13</td>\n",
       "      <td>78.02</td>\n",
       "      <td>az</td>\n",
       "      <td>v</td>\n",
       "      <td>n</td>\n",
       "      <td>f</td>\n",
       "      <td>d</td>\n",
       "      <td>h</td>\n",
       "      <td>d</td>\n",
       "      <td>n</td>\n",
       "      <td>...</td>\n",
       "      <td>0</td>\n",
       "      <td>0</td>\n",
       "      <td>0</td>\n",
       "      <td>0</td>\n",
       "      <td>0</td>\n",
       "      <td>0</td>\n",
       "      <td>0</td>\n",
       "      <td>0</td>\n",
       "      <td>0</td>\n",
       "      <td>0</td>\n",
       "    </tr>\n",
       "  </tbody>\n",
       "</table>\n",
       "<p>5 rows × 378 columns</p>\n",
       "</div>"
      ],
      "text/plain": [
       "   ID       y  X0 X1  X2 X3 X4 X5 X6 X8  ...  X375  X376  X377  X378  X379  \\\n",
       "0   0  130.81   k  v  at  a  d  u  j  o  ...     0     0     1     0     0   \n",
       "1   6   88.53   k  t  av  e  d  y  l  o  ...     1     0     0     0     0   \n",
       "2   7   76.26  az  w   n  c  d  x  j  x  ...     0     0     0     0     0   \n",
       "3   9   80.62  az  t   n  f  d  x  l  e  ...     0     0     0     0     0   \n",
       "4  13   78.02  az  v   n  f  d  h  d  n  ...     0     0     0     0     0   \n",
       "\n",
       "   X380  X382  X383  X384  X385  \n",
       "0     0     0     0     0     0  \n",
       "1     0     0     0     0     0  \n",
       "2     0     1     0     0     0  \n",
       "3     0     0     0     0     0  \n",
       "4     0     0     0     0     0  \n",
       "\n",
       "[5 rows x 378 columns]"
      ]
     },
     "execution_count": 168,
     "metadata": {},
     "output_type": "execute_result"
    }
   ],
   "source": [
    "merc_train.head()"
   ]
  },
  {
   "cell_type": "code",
   "execution_count": 169,
   "id": "e2a8f0f2",
   "metadata": {},
   "outputs": [
    {
     "data": {
      "text/html": [
       "<div>\n",
       "<style scoped>\n",
       "    .dataframe tbody tr th:only-of-type {\n",
       "        vertical-align: middle;\n",
       "    }\n",
       "\n",
       "    .dataframe tbody tr th {\n",
       "        vertical-align: top;\n",
       "    }\n",
       "\n",
       "    .dataframe thead th {\n",
       "        text-align: right;\n",
       "    }\n",
       "</style>\n",
       "<table border=\"1\" class=\"dataframe\">\n",
       "  <thead>\n",
       "    <tr style=\"text-align: right;\">\n",
       "      <th></th>\n",
       "      <th>ID</th>\n",
       "      <th>X0</th>\n",
       "      <th>X1</th>\n",
       "      <th>X2</th>\n",
       "      <th>X3</th>\n",
       "      <th>X4</th>\n",
       "      <th>X5</th>\n",
       "      <th>X6</th>\n",
       "      <th>X8</th>\n",
       "      <th>X10</th>\n",
       "      <th>...</th>\n",
       "      <th>X375</th>\n",
       "      <th>X376</th>\n",
       "      <th>X377</th>\n",
       "      <th>X378</th>\n",
       "      <th>X379</th>\n",
       "      <th>X380</th>\n",
       "      <th>X382</th>\n",
       "      <th>X383</th>\n",
       "      <th>X384</th>\n",
       "      <th>X385</th>\n",
       "    </tr>\n",
       "  </thead>\n",
       "  <tbody>\n",
       "    <tr>\n",
       "      <th>0</th>\n",
       "      <td>1</td>\n",
       "      <td>az</td>\n",
       "      <td>v</td>\n",
       "      <td>n</td>\n",
       "      <td>f</td>\n",
       "      <td>d</td>\n",
       "      <td>t</td>\n",
       "      <td>a</td>\n",
       "      <td>w</td>\n",
       "      <td>0</td>\n",
       "      <td>...</td>\n",
       "      <td>0</td>\n",
       "      <td>0</td>\n",
       "      <td>0</td>\n",
       "      <td>1</td>\n",
       "      <td>0</td>\n",
       "      <td>0</td>\n",
       "      <td>0</td>\n",
       "      <td>0</td>\n",
       "      <td>0</td>\n",
       "      <td>0</td>\n",
       "    </tr>\n",
       "    <tr>\n",
       "      <th>1</th>\n",
       "      <td>2</td>\n",
       "      <td>t</td>\n",
       "      <td>b</td>\n",
       "      <td>ai</td>\n",
       "      <td>a</td>\n",
       "      <td>d</td>\n",
       "      <td>b</td>\n",
       "      <td>g</td>\n",
       "      <td>y</td>\n",
       "      <td>0</td>\n",
       "      <td>...</td>\n",
       "      <td>0</td>\n",
       "      <td>0</td>\n",
       "      <td>1</td>\n",
       "      <td>0</td>\n",
       "      <td>0</td>\n",
       "      <td>0</td>\n",
       "      <td>0</td>\n",
       "      <td>0</td>\n",
       "      <td>0</td>\n",
       "      <td>0</td>\n",
       "    </tr>\n",
       "    <tr>\n",
       "      <th>2</th>\n",
       "      <td>3</td>\n",
       "      <td>az</td>\n",
       "      <td>v</td>\n",
       "      <td>as</td>\n",
       "      <td>f</td>\n",
       "      <td>d</td>\n",
       "      <td>a</td>\n",
       "      <td>j</td>\n",
       "      <td>j</td>\n",
       "      <td>0</td>\n",
       "      <td>...</td>\n",
       "      <td>0</td>\n",
       "      <td>0</td>\n",
       "      <td>0</td>\n",
       "      <td>1</td>\n",
       "      <td>0</td>\n",
       "      <td>0</td>\n",
       "      <td>0</td>\n",
       "      <td>0</td>\n",
       "      <td>0</td>\n",
       "      <td>0</td>\n",
       "    </tr>\n",
       "    <tr>\n",
       "      <th>3</th>\n",
       "      <td>4</td>\n",
       "      <td>az</td>\n",
       "      <td>l</td>\n",
       "      <td>n</td>\n",
       "      <td>f</td>\n",
       "      <td>d</td>\n",
       "      <td>z</td>\n",
       "      <td>l</td>\n",
       "      <td>n</td>\n",
       "      <td>0</td>\n",
       "      <td>...</td>\n",
       "      <td>0</td>\n",
       "      <td>0</td>\n",
       "      <td>0</td>\n",
       "      <td>1</td>\n",
       "      <td>0</td>\n",
       "      <td>0</td>\n",
       "      <td>0</td>\n",
       "      <td>0</td>\n",
       "      <td>0</td>\n",
       "      <td>0</td>\n",
       "    </tr>\n",
       "    <tr>\n",
       "      <th>4</th>\n",
       "      <td>5</td>\n",
       "      <td>w</td>\n",
       "      <td>s</td>\n",
       "      <td>as</td>\n",
       "      <td>c</td>\n",
       "      <td>d</td>\n",
       "      <td>y</td>\n",
       "      <td>i</td>\n",
       "      <td>m</td>\n",
       "      <td>0</td>\n",
       "      <td>...</td>\n",
       "      <td>1</td>\n",
       "      <td>0</td>\n",
       "      <td>0</td>\n",
       "      <td>0</td>\n",
       "      <td>0</td>\n",
       "      <td>0</td>\n",
       "      <td>0</td>\n",
       "      <td>0</td>\n",
       "      <td>0</td>\n",
       "      <td>0</td>\n",
       "    </tr>\n",
       "  </tbody>\n",
       "</table>\n",
       "<p>5 rows × 377 columns</p>\n",
       "</div>"
      ],
      "text/plain": [
       "   ID  X0 X1  X2 X3 X4 X5 X6 X8  X10  ...  X375  X376  X377  X378  X379  X380  \\\n",
       "0   1  az  v   n  f  d  t  a  w    0  ...     0     0     0     1     0     0   \n",
       "1   2   t  b  ai  a  d  b  g  y    0  ...     0     0     1     0     0     0   \n",
       "2   3  az  v  as  f  d  a  j  j    0  ...     0     0     0     1     0     0   \n",
       "3   4  az  l   n  f  d  z  l  n    0  ...     0     0     0     1     0     0   \n",
       "4   5   w  s  as  c  d  y  i  m    0  ...     1     0     0     0     0     0   \n",
       "\n",
       "   X382  X383  X384  X385  \n",
       "0     0     0     0     0  \n",
       "1     0     0     0     0  \n",
       "2     0     0     0     0  \n",
       "3     0     0     0     0  \n",
       "4     0     0     0     0  \n",
       "\n",
       "[5 rows x 377 columns]"
      ]
     },
     "execution_count": 169,
     "metadata": {},
     "output_type": "execute_result"
    }
   ],
   "source": [
    "merc_test.head()"
   ]
  },
  {
   "cell_type": "code",
   "execution_count": 170,
   "id": "2bbb9247",
   "metadata": {},
   "outputs": [],
   "source": [
    "#Separating features and target\n",
    "x=merc_train.drop(['ID','y'],axis=1) #ID column does not have any impact.\n",
    "y=merc_train['y']"
   ]
  },
  {
   "cell_type": "code",
   "execution_count": 171,
   "id": "52e37b05",
   "metadata": {},
   "outputs": [
    {
     "name": "stdout",
     "output_type": "stream",
     "text": [
      "<class 'pandas.core.frame.DataFrame'>\n",
      "RangeIndex: 4209 entries, 0 to 4208\n",
      "Columns: 376 entries, X0 to X385\n",
      "dtypes: int64(368), object(8)\n",
      "memory usage: 12.1+ MB\n"
     ]
    }
   ],
   "source": [
    "x.info()"
   ]
  },
  {
   "cell_type": "markdown",
   "id": "f3213e66",
   "metadata": {},
   "source": [
    "###### From the x.info(),it can be concluded that the number of categorical values are 8 ,variables raninging from X0-X8\n",
    "###### --------"
   ]
  },
  {
   "cell_type": "code",
   "execution_count": 172,
   "id": "870b8b1a",
   "metadata": {},
   "outputs": [
    {
     "name": "stdout",
     "output_type": "stream",
     "text": [
      "unique values: [[0, 1], [0]]\n",
      "--------\n",
      "Feature columns containing unique values:[0, 1]\n",
      "['X333', 'X228', 'X256', 'X164', 'X177', 'X42', 'X342', 'X109', 'X190', 'X212', 'X326', 'X374', 'X10', 'X224', 'X245', 'X310', 'X382', 'X352', 'X78', 'X160', 'X108', 'X379', 'X56', 'X20', 'X147', 'X183', 'X322', 'X277', 'X45', 'X304', 'X363', 'X159', 'X171', 'X343', 'X166', 'X123', 'X272', 'X54', 'X105', 'X60', 'X186', 'X216', 'X155', 'X66', 'X360', 'X351', 'X151', 'X202', 'X257', 'X355', 'X124', 'X176', 'X125', 'X43', 'X341', 'X158', 'X23', 'X328', 'X173', 'X113', 'X110', 'X197', 'X14', 'X299', 'X357', 'X271', 'X211', 'X77', 'X41', 'X76', 'X34', 'X200', 'X71', 'X251', 'X88', 'X81', 'X38', 'X247', 'X87', 'X282', 'X27', 'X221', 'X96', 'X332', 'X47', 'X94', 'X267', 'X248', 'X283', 'X17', 'X90', 'X252', 'X83', 'X15', 'X168', 'X331', 'X335', 'X210', 'X340', 'X338', 'X50', 'X174', 'X274', 'X62', 'X122', 'X117', 'X79', 'X246', 'X198', 'X308', 'X376', 'X40', 'X223', 'X80', 'X208', 'X380', 'X143', 'X163', 'X225', 'X28', 'X132', 'X226', 'X29', 'X229', 'X191', 'X364', 'X178', 'X309', 'X95', 'X278', 'X255', 'X358', 'X265', 'X280', 'X33', 'X182', 'X44', 'X100', 'X207', 'X305', 'X180', 'X244', 'X172', 'X371', 'X157', 'X51', 'X129', 'X206', 'X19', 'X319', 'X59', 'X337', 'X236', 'X302', 'X213', 'X84', 'X133', 'X259', 'X218', 'X67', 'X89', 'X24', 'X239', 'X313', 'X91', 'X139', 'X57', 'X39', 'X344', 'X345', 'X115', 'X242', 'X112', 'X138', 'X185', 'X367', 'X140', 'X298', 'X205', 'X73', 'X383', 'X325', 'X175', 'X48', 'X12', 'X98', 'X152', 'X192', 'X217', 'X92', 'X260', 'X336', 'X301', 'X127', 'X196', 'X311', 'X373', 'X104', 'X102', 'X287', 'X284', 'X201', 'X154', 'X69', 'X292', 'X241', 'X314', 'X339', 'X199', 'X366', 'X264', 'X375', 'X368', 'X86', 'X315', 'X195', 'X238', 'X353', 'X148', 'X317', 'X222', 'X384', 'X162', 'X270', 'X349', 'X378', 'X30', 'X362', 'X135', 'X167', 'X294', 'X181', 'X323', 'X359', 'X16', 'X232', 'X214', 'X231', 'X227', 'X295', 'X153', 'X32', 'X369', 'X312', 'X258', 'X161', 'X126', 'X254', 'X300', 'X36', 'X276', 'X288', 'X26', 'X230', 'X55', 'X370', 'X75', 'X253', 'X281', 'X99', 'X291', 'X169', 'X101', 'X63', 'X320', 'X65', 'X269', 'X356', 'X49', 'X134', 'X318', 'X145', 'X279', 'X321', 'X97', 'X348', 'X261', 'X141', 'X250', 'X82', 'X219', 'X243', 'X365', 'X307', 'X215', 'X165', 'X350', 'X130', 'X240', 'X296', 'X53', 'X372', 'X52', 'X103', 'X385', 'X203', 'X106', 'X346', 'X61', 'X286', 'X64', 'X146', 'X22', 'X249']\n",
      "\n",
      "Feature columns containing unique values:[0]\n",
      "['X93', 'X11', 'X107', 'X297', 'X293', 'X290', 'X330', 'X233', 'X268', 'X235', 'X347', 'X289']\n"
     ]
    }
   ],
   "source": [
    "#Getting unique values from integer feature columns\n",
    "integer_cols=list(set(x.columns)-set(['X0','X1','X2','X3','X4','X5','X6','X8'])) #Separating integers columns\n",
    "unique_val=[]\n",
    "for col in x[integer_cols]:\n",
    "    unique_val.append(x[col].unique())\n",
    "    \n",
    "unique_val=set(frozenset(i) for i in unique_val) #Removing duplicate values\n",
    "unique_val=list(map(list,unique_val)) #converting frozenset to list\n",
    "print('unique values:',unique_val,end='\\n--------\\n') \n",
    "\n",
    "\n",
    "#printing feature columns\n",
    "columns1=[]\n",
    "columns2=[]\n",
    "for col in x[list(integer_cols)]:\n",
    "    if x[col].unique().tolist()==unique_val[0]: #feature columns with [0,1] as unique values\n",
    "        columns1.append(col)\n",
    "    if x[col].unique().tolist()==unique_val[1]: #feature columns with [0] as unique value\n",
    "        columns2.append(col)\n",
    "\n",
    "print('Feature columns containing unique values:{0}\\n{1}'.format((unique_val[0]),(columns1)),end='\\n\\n')\n",
    "print('Feature columns containing unique values:{0}\\n{1}'.format((unique_val[1]),(columns2)))\n",
    "\n",
    "    "
   ]
  },
  {
   "cell_type": "code",
   "execution_count": 173,
   "id": "e31a539d",
   "metadata": {},
   "outputs": [
    {
     "name": "stdout",
     "output_type": "stream",
     "text": [
      "subset dataframe with zero variance:\n",
      "       X93  X11  X107  X297  X293  X290  X330  X233  X268  X235  X347  X289\n",
      "0       0    0     0     0     0     0     0     0     0     0     0     0\n",
      "1       0    0     0     0     0     0     0     0     0     0     0     0\n",
      "2       0    0     0     0     0     0     0     0     0     0     0     0\n",
      "3       0    0     0     0     0     0     0     0     0     0     0     0\n",
      "4       0    0     0     0     0     0     0     0     0     0     0     0\n",
      "...   ...  ...   ...   ...   ...   ...   ...   ...   ...   ...   ...   ...\n",
      "4204    0    0     0     0     0     0     0     0     0     0     0     0\n",
      "4205    0    0     0     0     0     0     0     0     0     0     0     0\n",
      "4206    0    0     0     0     0     0     0     0     0     0     0     0\n",
      "4207    0    0     0     0     0     0     0     0     0     0     0     0\n",
      "4208    0    0     0     0     0     0     0     0     0     0     0     0\n",
      "\n",
      "[4209 rows x 12 columns]\n",
      "columns with 0 variance: ['X93', 'X11', 'X107', 'X297', 'X293', 'X290', 'X330', 'X233', 'X268', 'X235', 'X347', 'X289']\n"
     ]
    }
   ],
   "source": [
    "#Removing feature columns with zero variance\n",
    "\n",
    "\n",
    "df=x[integer_cols].loc[:,x[integer_cols].var()==0] #Dataframe with feature columns showing no variance(variance=0)\n",
    "print('subset dataframe with zero variance:\\n',df)\n",
    "no_variance=list(df.columns) #extracting columns'name with zero variance\n",
    "print('columns with 0 variance:',no_variance)\n",
    "x.drop(no_variance,axis=1,inplace=True)# Removing columns with zero variance\n",
    "\n"
   ]
  },
  {
   "cell_type": "markdown",
   "id": "835aac92",
   "metadata": {},
   "source": [
    "### Columns with zero variance removed\n",
    "### ------"
   ]
  },
  {
   "cell_type": "code",
   "execution_count": 174,
   "id": "3a79e6d7",
   "metadata": {},
   "outputs": [
    {
     "name": "stdout",
     "output_type": "stream",
     "text": [
      "0\n",
      "0\n",
      "0\n"
     ]
    }
   ],
   "source": [
    "#Checking for null values in train and test data\n",
    "print(x.isnull().sum().sum(),y.isna().sum(),merc_test.isnull().sum().sum(),sep='\\n')"
   ]
  },
  {
   "cell_type": "markdown",
   "id": "2d30ed02",
   "metadata": {},
   "source": [
    "### No null values present in the train and test data"
   ]
  },
  {
   "cell_type": "markdown",
   "id": "9eb32885",
   "metadata": {},
   "source": [
    "# ----"
   ]
  },
  {
   "cell_type": "code",
   "execution_count": 175,
   "id": "e6a11819",
   "metadata": {},
   "outputs": [
    {
     "name": "stdout",
     "output_type": "stream",
     "text": [
      "      X0  X1  X2  X3  X4  X5  X6  X8\n",
      "0     32  23  17   0   3  24   9  14\n",
      "1     32  21  19   4   3  28  11  14\n",
      "2     20  24  34   2   3  27   9  23\n",
      "3     20  21  34   5   3  27  11   4\n",
      "4     20  23  34   5   3  12   3  13\n",
      "...   ..  ..  ..  ..  ..  ..  ..  ..\n",
      "4204   8  20  16   2   3   0   3  16\n",
      "4205  31  16  40   3   3   0   7   7\n",
      "4206   8  23  38   0   3   0   6   4\n",
      "4207   9  19  25   5   3   0  11  20\n",
      "4208  46  19   3   2   3   0   6  22\n",
      "\n",
      "[4209 rows x 8 columns]\n"
     ]
    }
   ],
   "source": [
    "# label encoding categoprical values\n",
    "\n",
    "for i in ['X0','X1','X2','X3','X4','X5','X6','X8']: #categorical columns\n",
    "    LE=LabelEncoder()\n",
    "    x[i]=LE.fit_transform(x[i]) #apply label encoding\n",
    "\n",
    "print(x[['X0','X1','X2','X3','X4','X5','X6','X8']]) #printing label encoded values of categorical columns\n"
   ]
  },
  {
   "cell_type": "markdown",
   "id": "00ab903c",
   "metadata": {},
   "source": [
    "### Applied Label Encoding on categorical feature columns\n",
    "### --------"
   ]
  },
  {
   "cell_type": "code",
   "execution_count": 203,
   "id": "306288e1",
   "metadata": {},
   "outputs": [],
   "source": [
    "# For dimensionality reduction applying PCA(Principal Component Analysis)\n",
    "from sklearn.decomposition import PCA\n",
    "pca=PCA(n_components=10) #taking 10 principal components for dimensionality reduction\n",
    "x_trans=pca.fit_transform(x) #fitting and transforming features"
   ]
  },
  {
   "cell_type": "code",
   "execution_count": 204,
   "id": "c1b47e76",
   "metadata": {},
   "outputs": [
    {
     "name": "stdout",
     "output_type": "stream",
     "text": [
      "[0.38334782 0.21388033 0.13261866 0.11826642 0.09206008 0.01590604\n",
      " 0.0074454  0.00433701 0.00294021 0.00241796]\n",
      "\n",
      "Total variance on the output caused by all 10 principal components together is: 97.322%\n"
     ]
    }
   ],
   "source": [
    "print(pca.explained_variance_ratio_) # explained variance of the 10 principal components\n",
    "\n",
    "print('\\nTotal variance on the output caused by all 10 principal components together is: {}%'.format(round((sum(pca.explained_variance_ratio_)*100),3)) )"
   ]
  },
  {
   "cell_type": "markdown",
   "id": "aeeead67",
   "metadata": {},
   "source": [
    "### Applied Dimenstionality reduction on the features\n",
    "### --------"
   ]
  },
  {
   "cell_type": "code",
   "execution_count": 205,
   "id": "64f22fd7",
   "metadata": {},
   "outputs": [],
   "source": [
    "#Splitting training and testing data\n",
    "x_train,x_test,y_train,y_test=train_test_split(x_trans,y,test_size=0.25,random_state=16)\n"
   ]
  },
  {
   "cell_type": "code",
   "execution_count": 206,
   "id": "aa88faa5",
   "metadata": {},
   "outputs": [],
   "source": [
    "###XGBRegressor parameters:\n",
    "#objective:regularized linear regression\n",
    "#evalutaion metric=rmse\n",
    "#n_estimators=800\n",
    "#early stopping rounds=80(10% of n_estimators)\n",
    "#learning rate=10%"
   ]
  },
  {
   "cell_type": "code",
   "execution_count": 207,
   "id": "52385568",
   "metadata": {
    "scrolled": false
   },
   "outputs": [
    {
     "name": "stdout",
     "output_type": "stream",
     "text": [
      "[0]\tvalidation_0-rmse:90.97558\n",
      "[1]\tvalidation_0-rmse:82.00085\n",
      "[2]\tvalidation_0-rmse:73.96640\n",
      "[3]\tvalidation_0-rmse:66.73643\n",
      "[4]\tvalidation_0-rmse:60.24603\n",
      "[5]\tvalidation_0-rmse:54.41054\n",
      "[6]\tvalidation_0-rmse:49.17634\n",
      "[7]\tvalidation_0-rmse:44.48262\n",
      "[8]\tvalidation_0-rmse:40.27932\n",
      "[9]\tvalidation_0-rmse:36.50683\n",
      "[10]\tvalidation_0-rmse:33.15111\n",
      "[11]\tvalidation_0-rmse:30.14568\n",
      "[12]\tvalidation_0-rmse:27.46069\n",
      "[13]\tvalidation_0-rmse:25.07562\n",
      "[14]\tvalidation_0-rmse:22.97338\n",
      "[15]\tvalidation_0-rmse:21.12299\n",
      "[16]\tvalidation_0-rmse:19.46181\n",
      "[17]\tvalidation_0-rmse:17.99291\n",
      "[18]\tvalidation_0-rmse:16.73097\n",
      "[19]\tvalidation_0-rmse:15.59243\n",
      "[20]\tvalidation_0-rmse:14.62631\n",
      "[21]\tvalidation_0-rmse:13.78661\n",
      "[22]\tvalidation_0-rmse:13.06381\n",
      "[23]\tvalidation_0-rmse:12.45806\n",
      "[24]\tvalidation_0-rmse:11.92603\n",
      "[25]\tvalidation_0-rmse:11.49262\n",
      "[26]\tvalidation_0-rmse:11.11828\n",
      "[27]\tvalidation_0-rmse:10.80243\n",
      "[28]\tvalidation_0-rmse:10.53835\n",
      "[29]\tvalidation_0-rmse:10.34113\n",
      "[30]\tvalidation_0-rmse:10.16028\n",
      "[31]\tvalidation_0-rmse:10.01179\n",
      "[32]\tvalidation_0-rmse:9.90004\n",
      "[33]\tvalidation_0-rmse:9.80170\n",
      "[34]\tvalidation_0-rmse:9.71618\n",
      "[35]\tvalidation_0-rmse:9.63429\n",
      "[36]\tvalidation_0-rmse:9.58844\n",
      "[37]\tvalidation_0-rmse:9.55121\n",
      "[38]\tvalidation_0-rmse:9.52049\n",
      "[39]\tvalidation_0-rmse:9.49487\n",
      "[40]\tvalidation_0-rmse:9.48230\n",
      "[41]\tvalidation_0-rmse:9.46871\n",
      "[42]\tvalidation_0-rmse:9.46635\n",
      "[43]\tvalidation_0-rmse:9.45393\n",
      "[44]\tvalidation_0-rmse:9.43849\n",
      "[45]\tvalidation_0-rmse:9.43343\n",
      "[46]\tvalidation_0-rmse:9.43573\n",
      "[47]\tvalidation_0-rmse:9.43236\n",
      "[48]\tvalidation_0-rmse:9.42738\n",
      "[49]\tvalidation_0-rmse:9.42794\n",
      "[50]\tvalidation_0-rmse:9.42353\n",
      "[51]\tvalidation_0-rmse:9.41776\n",
      "[52]\tvalidation_0-rmse:9.42453\n",
      "[53]\tvalidation_0-rmse:9.42953\n",
      "[54]\tvalidation_0-rmse:9.43775\n",
      "[55]\tvalidation_0-rmse:9.43734\n",
      "[56]\tvalidation_0-rmse:9.43972\n",
      "[57]\tvalidation_0-rmse:9.43560\n",
      "[58]\tvalidation_0-rmse:9.43656\n",
      "[59]\tvalidation_0-rmse:9.42923\n",
      "[60]\tvalidation_0-rmse:9.42837\n",
      "[61]\tvalidation_0-rmse:9.42728\n",
      "[62]\tvalidation_0-rmse:9.43021\n",
      "[63]\tvalidation_0-rmse:9.42997\n",
      "[64]\tvalidation_0-rmse:9.43046\n",
      "[65]\tvalidation_0-rmse:9.42980\n",
      "[66]\tvalidation_0-rmse:9.42806\n",
      "[67]\tvalidation_0-rmse:9.42750\n",
      "[68]\tvalidation_0-rmse:9.43254\n",
      "[69]\tvalidation_0-rmse:9.43057\n",
      "[70]\tvalidation_0-rmse:9.43298\n",
      "[71]\tvalidation_0-rmse:9.44281\n",
      "[72]\tvalidation_0-rmse:9.44743\n",
      "[73]\tvalidation_0-rmse:9.43974\n",
      "[74]\tvalidation_0-rmse:9.44548\n",
      "[75]\tvalidation_0-rmse:9.44553\n",
      "[76]\tvalidation_0-rmse:9.44861\n",
      "[77]\tvalidation_0-rmse:9.44832\n",
      "[78]\tvalidation_0-rmse:9.44966\n",
      "[79]\tvalidation_0-rmse:9.45230\n",
      "[80]\tvalidation_0-rmse:9.45540\n",
      "[81]\tvalidation_0-rmse:9.45899\n",
      "[82]\tvalidation_0-rmse:9.46458\n",
      "[83]\tvalidation_0-rmse:9.47100\n",
      "[84]\tvalidation_0-rmse:9.47127\n",
      "[85]\tvalidation_0-rmse:9.47058\n",
      "[86]\tvalidation_0-rmse:9.47262\n",
      "[87]\tvalidation_0-rmse:9.46883\n",
      "[88]\tvalidation_0-rmse:9.46796\n",
      "[89]\tvalidation_0-rmse:9.47425\n",
      "[90]\tvalidation_0-rmse:9.47732\n",
      "[91]\tvalidation_0-rmse:9.48175\n",
      "[92]\tvalidation_0-rmse:9.48267\n",
      "[93]\tvalidation_0-rmse:9.48246\n",
      "[94]\tvalidation_0-rmse:9.48220\n",
      "[95]\tvalidation_0-rmse:9.48093\n",
      "[96]\tvalidation_0-rmse:9.48364\n",
      "[97]\tvalidation_0-rmse:9.49043\n",
      "[98]\tvalidation_0-rmse:9.49404\n",
      "[99]\tvalidation_0-rmse:9.49775\n",
      "[100]\tvalidation_0-rmse:9.49751\n",
      "[101]\tvalidation_0-rmse:9.49872\n",
      "[102]\tvalidation_0-rmse:9.50092\n",
      "[103]\tvalidation_0-rmse:9.50028\n",
      "[104]\tvalidation_0-rmse:9.50324\n",
      "[105]\tvalidation_0-rmse:9.50504\n",
      "[106]\tvalidation_0-rmse:9.50992\n",
      "[107]\tvalidation_0-rmse:9.51115\n",
      "[108]\tvalidation_0-rmse:9.50963\n",
      "[109]\tvalidation_0-rmse:9.51030\n",
      "[110]\tvalidation_0-rmse:9.51037\n",
      "[111]\tvalidation_0-rmse:9.51430\n",
      "[112]\tvalidation_0-rmse:9.52625\n",
      "[113]\tvalidation_0-rmse:9.52734\n",
      "[114]\tvalidation_0-rmse:9.52593\n",
      "[115]\tvalidation_0-rmse:9.52427\n",
      "[116]\tvalidation_0-rmse:9.51822\n",
      "[117]\tvalidation_0-rmse:9.51987\n",
      "[118]\tvalidation_0-rmse:9.52154\n",
      "[119]\tvalidation_0-rmse:9.52087\n",
      "[120]\tvalidation_0-rmse:9.52244\n",
      "[121]\tvalidation_0-rmse:9.52502\n",
      "[122]\tvalidation_0-rmse:9.52596\n",
      "[123]\tvalidation_0-rmse:9.52551\n",
      "[124]\tvalidation_0-rmse:9.52979\n",
      "[125]\tvalidation_0-rmse:9.53024\n",
      "[126]\tvalidation_0-rmse:9.53403\n",
      "[127]\tvalidation_0-rmse:9.53728\n",
      "[128]\tvalidation_0-rmse:9.53443\n",
      "[129]\tvalidation_0-rmse:9.53678\n",
      "[130]\tvalidation_0-rmse:9.53489\n"
     ]
    },
    {
     "data": {
      "text/plain": [
       "XGBRegressor(base_score=0.5, booster='gbtree', callbacks=None,\n",
       "             colsample_bylevel=1, colsample_bynode=1, colsample_bytree=1,\n",
       "             early_stopping_rounds=80, enable_categorical=False,\n",
       "             eval_metric='rmse', gamma=0, gpu_id=-1, grow_policy='depthwise',\n",
       "             importance_type=None, interaction_constraints='',\n",
       "             learning_rate=0.1, max_bin=256, max_cat_to_onehot=4,\n",
       "             max_delta_step=0, max_depth=6, max_leaves=0, min_child_weight=1,\n",
       "             missing=nan, monotone_constraints='()', n_estimators=800, n_jobs=0,\n",
       "             num_parallel_tree=1, predictor='auto', random_state=16,\n",
       "             reg_alpha=0, reg_lambda=1, ...)"
      ]
     },
     "execution_count": 207,
     "metadata": {},
     "output_type": "execute_result"
    }
   ],
   "source": [
    "#Since the the target varaible(y) is continous,regression must be performed for prediction\n",
    "#Finding optimal number of n_estimators\n",
    "xgbmodel=xgb.XGBRegressor(objective='reg:squarederror',eval_metric='rmse',n_estimators=800,early_stopping_rounds=80,learning_rate=0.1,random_state=16)\n",
    "\n",
    "xgbmodel.fit(x_train,y_train,eval_set=[(x_test,y_test)])"
   ]
  },
  {
   "cell_type": "code",
   "execution_count": 208,
   "id": "987f6470",
   "metadata": {},
   "outputs": [
    {
     "name": "stdout",
     "output_type": "stream",
     "text": [
      "Best model score: 9.417760147899532\n",
      "Best iteration round: 51\n",
      "Best tree limit: 52\n"
     ]
    }
   ],
   "source": [
    "#Printing scores of optimal iteration\n",
    "print('Best model score: {}\\nBest iteration round: {}\\nBest tree limit: {}'.format((xgbmodel.best_score),(xgbmodel.best_iteration),(xgbmodel.best_ntree_limit)))"
   ]
  },
  {
   "cell_type": "code",
   "execution_count": 209,
   "id": "ef0daff3",
   "metadata": {},
   "outputs": [],
   "source": [
    "optimal_tree_limit=xgbmodel.best_ntree_limit"
   ]
  },
  {
   "cell_type": "code",
   "execution_count": 210,
   "id": "90eefccc",
   "metadata": {},
   "outputs": [
    {
     "data": {
      "text/plain": [
       "XGBRegressor(base_score=0.5, booster='gbtree', callbacks=None,\n",
       "             colsample_bylevel=1, colsample_bynode=1, colsample_bytree=1,\n",
       "             early_stopping_rounds=None, enable_categorical=False,\n",
       "             eval_metric=None, gamma=0, gpu_id=-1, grow_policy='depthwise',\n",
       "             importance_type=None, interaction_constraints='',\n",
       "             learning_rate=0.300000012, max_bin=256, max_cat_to_onehot=4,\n",
       "             max_delta_step=0, max_depth=6, max_leaves=0, min_child_weight=1,\n",
       "             missing=nan, monotone_constraints='()', n_estimators=52, n_jobs=0,\n",
       "             num_parallel_tree=1, predictor='auto', random_state=0, reg_alpha=0,\n",
       "             reg_lambda=1, ...)"
      ]
     },
     "execution_count": 210,
     "metadata": {},
     "output_type": "execute_result"
    }
   ],
   "source": [
    "#Making new xgboost regressor with best tree limit as n_estimators\n",
    "xgbmodel=xgb.XGBRegressor(objective='reg:squarederror',n_estimators=optimal_tree_limit)\n",
    "xgbmodel.fit(x_train,y_train)"
   ]
  },
  {
   "cell_type": "code",
   "execution_count": 211,
   "id": "7c74c9c6",
   "metadata": {},
   "outputs": [
    {
     "name": "stdout",
     "output_type": "stream",
     "text": [
      "rmse:  9.66621783299739\n",
      "10.064689797211656\n"
     ]
    }
   ],
   "source": [
    "y_pred=xgbmodel.predict(x_test) #predicting target values\n",
    "print('rmse: ',np.sqrt(mean_squared_error(y_test,y_pred)))\n",
    "print(0.1*y_train.mean())"
   ]
  },
  {
   "cell_type": "markdown",
   "id": "3c91d789",
   "metadata": {},
   "source": [
    "#### rmse of the model is less than 10% of the mean of the target.This indicates model is performing good.\n",
    "#### -----"
   ]
  },
  {
   "cell_type": "code",
   "execution_count": 212,
   "id": "3a70d6a7",
   "metadata": {},
   "outputs": [],
   "source": [
    "#predicted values\n",
    "prediction_df=pd.DataFrame(data=y_pred,columns=['prediction'])"
   ]
  },
  {
   "cell_type": "markdown",
   "id": "bd792804",
   "metadata": {},
   "source": [
    "### Predicted values below"
   ]
  },
  {
   "cell_type": "code",
   "execution_count": 213,
   "id": "b07eb6d5",
   "metadata": {},
   "outputs": [
    {
     "data": {
      "text/html": [
       "<div>\n",
       "<style scoped>\n",
       "    .dataframe tbody tr th:only-of-type {\n",
       "        vertical-align: middle;\n",
       "    }\n",
       "\n",
       "    .dataframe tbody tr th {\n",
       "        vertical-align: top;\n",
       "    }\n",
       "\n",
       "    .dataframe thead th {\n",
       "        text-align: right;\n",
       "    }\n",
       "</style>\n",
       "<table border=\"1\" class=\"dataframe\">\n",
       "  <thead>\n",
       "    <tr style=\"text-align: right;\">\n",
       "      <th></th>\n",
       "      <th>prediction</th>\n",
       "    </tr>\n",
       "  </thead>\n",
       "  <tbody>\n",
       "    <tr>\n",
       "      <th>0</th>\n",
       "      <td>95.692062</td>\n",
       "    </tr>\n",
       "    <tr>\n",
       "      <th>1</th>\n",
       "      <td>112.125778</td>\n",
       "    </tr>\n",
       "    <tr>\n",
       "      <th>2</th>\n",
       "      <td>100.421837</td>\n",
       "    </tr>\n",
       "    <tr>\n",
       "      <th>3</th>\n",
       "      <td>113.255753</td>\n",
       "    </tr>\n",
       "    <tr>\n",
       "      <th>4</th>\n",
       "      <td>97.838516</td>\n",
       "    </tr>\n",
       "    <tr>\n",
       "      <th>...</th>\n",
       "      <td>...</td>\n",
       "    </tr>\n",
       "    <tr>\n",
       "      <th>1048</th>\n",
       "      <td>96.949890</td>\n",
       "    </tr>\n",
       "    <tr>\n",
       "      <th>1049</th>\n",
       "      <td>98.842651</td>\n",
       "    </tr>\n",
       "    <tr>\n",
       "      <th>1050</th>\n",
       "      <td>90.835312</td>\n",
       "    </tr>\n",
       "    <tr>\n",
       "      <th>1051</th>\n",
       "      <td>92.625420</td>\n",
       "    </tr>\n",
       "    <tr>\n",
       "      <th>1052</th>\n",
       "      <td>92.716393</td>\n",
       "    </tr>\n",
       "  </tbody>\n",
       "</table>\n",
       "<p>1053 rows × 1 columns</p>\n",
       "</div>"
      ],
      "text/plain": [
       "      prediction\n",
       "0      95.692062\n",
       "1     112.125778\n",
       "2     100.421837\n",
       "3     113.255753\n",
       "4      97.838516\n",
       "...          ...\n",
       "1048   96.949890\n",
       "1049   98.842651\n",
       "1050   90.835312\n",
       "1051   92.625420\n",
       "1052   92.716393\n",
       "\n",
       "[1053 rows x 1 columns]"
      ]
     },
     "execution_count": 213,
     "metadata": {},
     "output_type": "execute_result"
    }
   ],
   "source": [
    "prediction_df"
   ]
  },
  {
   "cell_type": "code",
   "execution_count": 214,
   "id": "ead3a5d2",
   "metadata": {},
   "outputs": [],
   "source": [
    "from sklearn.metrics import r2_score"
   ]
  },
  {
   "cell_type": "code",
   "execution_count": 215,
   "id": "7d6d1729",
   "metadata": {},
   "outputs": [
    {
     "data": {
      "text/plain": [
       "0.3498779293116404"
      ]
     },
     "execution_count": 215,
     "metadata": {},
     "output_type": "execute_result"
    }
   ],
   "source": [
    "r2_score(y_test,y_pred)"
   ]
  },
  {
   "cell_type": "code",
   "execution_count": null,
   "id": "701aebfd",
   "metadata": {},
   "outputs": [],
   "source": []
  }
 ],
 "metadata": {
  "kernelspec": {
   "display_name": "Python 3 (ipykernel)",
   "language": "python",
   "name": "python3"
  },
  "language_info": {
   "codemirror_mode": {
    "name": "ipython",
    "version": 3
   },
   "file_extension": ".py",
   "mimetype": "text/x-python",
   "name": "python",
   "nbconvert_exporter": "python",
   "pygments_lexer": "ipython3",
   "version": "3.9.7"
  }
 },
 "nbformat": 4,
 "nbformat_minor": 5
}
